{
 "cells": [
  {
   "cell_type": "code",
   "execution_count": 1,
   "metadata": {},
   "outputs": [],
   "source": [
    "import numpy as np\n",
    "import pandas as pd\n"
   ]
  },
  {
   "cell_type": "code",
   "execution_count": 2,
   "metadata": {},
   "outputs": [],
   "source": [
    "charlesDF = pd.read_csv(\"./charles_procmon_log.csv\")"
   ]
  },
  {
   "cell_type": "code",
   "execution_count": 3,
   "metadata": {},
   "outputs": [
    {
     "data": {
      "text/plain": [
       "(11543, 7)"
      ]
     },
     "execution_count": 3,
     "metadata": {},
     "output_type": "execute_result"
    }
   ],
   "source": [
    "charlesDF.shape"
   ]
  },
  {
   "cell_type": "code",
   "execution_count": 4,
   "metadata": {},
   "outputs": [
    {
     "data": {
      "text/html": [
       "<div>\n",
       "<style scoped>\n",
       "    .dataframe tbody tr th:only-of-type {\n",
       "        vertical-align: middle;\n",
       "    }\n",
       "\n",
       "    .dataframe tbody tr th {\n",
       "        vertical-align: top;\n",
       "    }\n",
       "\n",
       "    .dataframe thead th {\n",
       "        text-align: right;\n",
       "    }\n",
       "</style>\n",
       "<table border=\"1\" class=\"dataframe\">\n",
       "  <thead>\n",
       "    <tr style=\"text-align: right;\">\n",
       "      <th></th>\n",
       "      <th>Time of Day</th>\n",
       "      <th>Process Name</th>\n",
       "      <th>PID</th>\n",
       "      <th>Operation</th>\n",
       "      <th>Path</th>\n",
       "      <th>Result</th>\n",
       "      <th>Detail</th>\n",
       "    </tr>\n",
       "  </thead>\n",
       "  <tbody>\n",
       "    <tr>\n",
       "      <th>0</th>\n",
       "      <td>11:23:30.1401647 PM</td>\n",
       "      <td>charles.exe</td>\n",
       "      <td>1800</td>\n",
       "      <td>Process Start</td>\n",
       "      <td>NaN</td>\n",
       "      <td>SUCCESS</td>\n",
       "      <td>Parent PID: 1420, Command line: \"C:\\Users\\hoan...</td>\n",
       "    </tr>\n",
       "    <tr>\n",
       "      <th>1</th>\n",
       "      <td>11:23:30.1401701 PM</td>\n",
       "      <td>charles.exe</td>\n",
       "      <td>1800</td>\n",
       "      <td>Thread Create</td>\n",
       "      <td>NaN</td>\n",
       "      <td>SUCCESS</td>\n",
       "      <td>Thread ID: 4284</td>\n",
       "    </tr>\n",
       "    <tr>\n",
       "      <th>2</th>\n",
       "      <td>11:23:30.2031070 PM</td>\n",
       "      <td>charles.exe</td>\n",
       "      <td>1800</td>\n",
       "      <td>Load Image</td>\n",
       "      <td>C:\\Users\\hoang\\Desktop\\4069\\Tutorial2\\Tutorial...</td>\n",
       "      <td>SUCCESS</td>\n",
       "      <td>Image Base: 0x400000, Image Size: 0x19000</td>\n",
       "    </tr>\n",
       "    <tr>\n",
       "      <th>3</th>\n",
       "      <td>11:23:30.2031507 PM</td>\n",
       "      <td>charles.exe</td>\n",
       "      <td>1800</td>\n",
       "      <td>Load Image</td>\n",
       "      <td>C:\\Windows\\System32\\ntdll.dll</td>\n",
       "      <td>SUCCESS</td>\n",
       "      <td>Image Base: 0x7ff868fd0000, Image Size: 0x1f6000</td>\n",
       "    </tr>\n",
       "    <tr>\n",
       "      <th>4</th>\n",
       "      <td>11:23:30.2031799 PM</td>\n",
       "      <td>charles.exe</td>\n",
       "      <td>1800</td>\n",
       "      <td>Load Image</td>\n",
       "      <td>C:\\Windows\\SysWOW64\\ntdll.dll</td>\n",
       "      <td>SUCCESS</td>\n",
       "      <td>Image Base: 0x76f50000, Image Size: 0x1a3000</td>\n",
       "    </tr>\n",
       "    <tr>\n",
       "      <th>5</th>\n",
       "      <td>11:23:30.2032959 PM</td>\n",
       "      <td>charles.exe</td>\n",
       "      <td>1800</td>\n",
       "      <td>CreateFile</td>\n",
       "      <td>C:\\Windows\\Prefetch\\CHARLES.EXE-49CFAB01.pf</td>\n",
       "      <td>NAME NOT FOUND</td>\n",
       "      <td>Desired Access: Generic Read, Disposition: Ope...</td>\n",
       "    </tr>\n",
       "    <tr>\n",
       "      <th>6</th>\n",
       "      <td>11:23:30.2034169 PM</td>\n",
       "      <td>charles.exe</td>\n",
       "      <td>1800</td>\n",
       "      <td>RegOpenKey</td>\n",
       "      <td>HKLM\\System\\CurrentControlSet\\Control\\Session ...</td>\n",
       "      <td>REPARSE</td>\n",
       "      <td>Desired Access: Query Value</td>\n",
       "    </tr>\n",
       "    <tr>\n",
       "      <th>7</th>\n",
       "      <td>11:23:30.2034295 PM</td>\n",
       "      <td>charles.exe</td>\n",
       "      <td>1800</td>\n",
       "      <td>RegOpenKey</td>\n",
       "      <td>HKLM\\System\\CurrentControlSet\\Control\\Session ...</td>\n",
       "      <td>SUCCESS</td>\n",
       "      <td>Desired Access: Query Value</td>\n",
       "    </tr>\n",
       "    <tr>\n",
       "      <th>8</th>\n",
       "      <td>11:23:30.2034401 PM</td>\n",
       "      <td>charles.exe</td>\n",
       "      <td>1800</td>\n",
       "      <td>RegQueryValue</td>\n",
       "      <td>HKLM\\System\\CurrentControlSet\\Control\\Session ...</td>\n",
       "      <td>NAME NOT FOUND</td>\n",
       "      <td>Length: 80</td>\n",
       "    </tr>\n",
       "    <tr>\n",
       "      <th>9</th>\n",
       "      <td>11:23:30.2034512 PM</td>\n",
       "      <td>charles.exe</td>\n",
       "      <td>1800</td>\n",
       "      <td>RegCloseKey</td>\n",
       "      <td>HKLM\\System\\CurrentControlSet\\Control\\Session ...</td>\n",
       "      <td>SUCCESS</td>\n",
       "      <td>NaN</td>\n",
       "    </tr>\n",
       "  </tbody>\n",
       "</table>\n",
       "</div>"
      ],
      "text/plain": [
       "           Time of Day Process Name   PID      Operation  \\\n",
       "0  11:23:30.1401647 PM  charles.exe  1800  Process Start   \n",
       "1  11:23:30.1401701 PM  charles.exe  1800  Thread Create   \n",
       "2  11:23:30.2031070 PM  charles.exe  1800     Load Image   \n",
       "3  11:23:30.2031507 PM  charles.exe  1800     Load Image   \n",
       "4  11:23:30.2031799 PM  charles.exe  1800     Load Image   \n",
       "5  11:23:30.2032959 PM  charles.exe  1800     CreateFile   \n",
       "6  11:23:30.2034169 PM  charles.exe  1800     RegOpenKey   \n",
       "7  11:23:30.2034295 PM  charles.exe  1800     RegOpenKey   \n",
       "8  11:23:30.2034401 PM  charles.exe  1800  RegQueryValue   \n",
       "9  11:23:30.2034512 PM  charles.exe  1800    RegCloseKey   \n",
       "\n",
       "                                                Path          Result  \\\n",
       "0                                                NaN         SUCCESS   \n",
       "1                                                NaN         SUCCESS   \n",
       "2  C:\\Users\\hoang\\Desktop\\4069\\Tutorial2\\Tutorial...         SUCCESS   \n",
       "3                      C:\\Windows\\System32\\ntdll.dll         SUCCESS   \n",
       "4                      C:\\Windows\\SysWOW64\\ntdll.dll         SUCCESS   \n",
       "5        C:\\Windows\\Prefetch\\CHARLES.EXE-49CFAB01.pf  NAME NOT FOUND   \n",
       "6  HKLM\\System\\CurrentControlSet\\Control\\Session ...         REPARSE   \n",
       "7  HKLM\\System\\CurrentControlSet\\Control\\Session ...         SUCCESS   \n",
       "8  HKLM\\System\\CurrentControlSet\\Control\\Session ...  NAME NOT FOUND   \n",
       "9  HKLM\\System\\CurrentControlSet\\Control\\Session ...         SUCCESS   \n",
       "\n",
       "                                              Detail  \n",
       "0  Parent PID: 1420, Command line: \"C:\\Users\\hoan...  \n",
       "1                                    Thread ID: 4284  \n",
       "2          Image Base: 0x400000, Image Size: 0x19000  \n",
       "3   Image Base: 0x7ff868fd0000, Image Size: 0x1f6000  \n",
       "4       Image Base: 0x76f50000, Image Size: 0x1a3000  \n",
       "5  Desired Access: Generic Read, Disposition: Ope...  \n",
       "6                        Desired Access: Query Value  \n",
       "7                        Desired Access: Query Value  \n",
       "8                                         Length: 80  \n",
       "9                                                NaN  "
      ]
     },
     "execution_count": 4,
     "metadata": {},
     "output_type": "execute_result"
    }
   ],
   "source": [
    "charlesDF.head(10)"
   ]
  },
  {
   "cell_type": "code",
   "execution_count": 6,
   "metadata": {},
   "outputs": [
    {
     "data": {
      "text/plain": [
       "array(['Process Start', 'Thread Create', 'Load Image', 'CreateFile',\n",
       "       'RegOpenKey', 'RegQueryValue', 'RegCloseKey',\n",
       "       'QueryNameInformationFile', 'CloseFile', 'RegSetInfoKey',\n",
       "       'QueryBasicInformationFile', 'CreateFileMapping',\n",
       "       'QuerySecurityFile', 'QueryStandardInformationFile', 'RegEnumKey',\n",
       "       'RegQueryKey', 'RegEnumValue', 'ReadFile', 'QueryDirectory',\n",
       "       'QueryAttributeTagFile', 'QueryStreamInformationFile',\n",
       "       'QueryEaInformationFile', 'QueryNormalizedNameInformationFile',\n",
       "       'QueryAttributeInformationVolume',\n",
       "       'QueryRemoteProtocolInformation', 'SetEndOfFileInformationFile',\n",
       "       'WriteFile', 'SetBasicInformationFile', 'RegCreateKey',\n",
       "       'RegSetValue', 'QueryNetworkOpenInformationFile',\n",
       "       'QuerySizeInformationVolume', 'Process Create', 'Thread Exit',\n",
       "       'Process Exit'], dtype=object)"
      ]
     },
     "execution_count": 6,
     "metadata": {},
     "output_type": "execute_result"
    }
   ],
   "source": [
    "Operations = charlesDF.loc[:,\"Operation\"].unique()\n",
    "Operations"
   ]
  },
  {
   "cell_type": "code",
   "execution_count": 36,
   "metadata": {},
   "outputs": [
    {
     "data": {
      "text/plain": [
       "True"
      ]
     },
     "execution_count": 36,
     "metadata": {},
     "output_type": "execute_result"
    }
   ],
   "source": [
    "'SetEndOfFileInformationFile' in Operations"
   ]
  },
  {
   "cell_type": "code",
   "execution_count": 7,
   "metadata": {},
   "outputs": [],
   "source": [
    "CreateFileEvents = charlesDF[charlesDF[\"Operation\"] == 'CreateFile']"
   ]
  },
  {
   "cell_type": "code",
   "execution_count": 9,
   "metadata": {},
   "outputs": [
    {
     "data": {
      "text/plain": [
       "array(['C:\\\\Windows\\\\Prefetch\\\\CHARLES.EXE-49CFAB01.pf', 'C:\\\\Windows',\n",
       "       'C:\\\\Windows\\\\System32\\\\wow64log.dll',\n",
       "       'C:\\\\Users\\\\hoang\\\\Desktop\\\\4069\\\\Tutorial2\\\\Tutorial2',\n",
       "       'C:\\\\Windows\\\\SysWOW64\\\\apphelp.dll',\n",
       "       'C:\\\\Users\\\\hoang\\\\Desktop\\\\4069\\\\Tutorial2\\\\Tutorial2\\\\charles.exe',\n",
       "       'C:\\\\Windows\\\\SysWOW64\\\\ntdll.dll',\n",
       "       'C:\\\\Windows\\\\SysWOW64\\\\kernel32.dll',\n",
       "       'C:\\\\Windows\\\\SysWOW64\\\\KernelBase.dll',\n",
       "       'C:\\\\Windows\\\\apppatch\\\\sysmain.sdb',\n",
       "       'C:\\\\Users\\\\hoang\\\\Desktop\\\\4069\\\\Tutorial2\\\\Tutorial2\\\\charles.exe.Local',\n",
       "       'C:\\\\Windows\\\\WinSxS\\\\x86_microsoft.windows.gdiplus_6595b64144ccf1df_1.1.19041.685_none_4299dbb28a92ae3e',\n",
       "       'C:\\\\Users\\\\hoang\\\\Desktop\\\\4069\\\\Tutorial2\\\\Tutorial2\\\\MSVCP60.dll',\n",
       "       'C:\\\\Windows\\\\SysWOW64\\\\msvcp60.dll',\n",
       "       'C:\\\\Users\\\\hoang\\\\Desktop\\\\4069\\\\Tutorial2\\\\Tutorial2\\\\WINMM.dll',\n",
       "       'C:\\\\Windows\\\\SysWOW64\\\\winmm.dll',\n",
       "       'C:\\\\Users\\\\hoang\\\\Desktop\\\\4069\\\\Tutorial2\\\\Tutorial2\\\\urlmon.dll',\n",
       "       'C:\\\\Windows\\\\SysWOW64\\\\urlmon.dll',\n",
       "       'C:\\\\Windows\\\\WinSxS\\\\x86_microsoft.windows.gdiplus_6595b64144ccf1df_1.1.19041.685_none_4299dbb28a92ae3e\\\\GdiPlus.dll',\n",
       "       'C:\\\\Users\\\\hoang\\\\Desktop\\\\4069\\\\Tutorial2\\\\Tutorial2\\\\WININET.dll',\n",
       "       'C:\\\\Windows\\\\SysWOW64\\\\wininet.dll',\n",
       "       'C:\\\\Users\\\\hoang\\\\Desktop\\\\4069\\\\Tutorial2\\\\Tutorial2\\\\iertutil.dll',\n",
       "       'C:\\\\Windows\\\\SysWOW64\\\\iertutil.dll',\n",
       "       'C:\\\\Windows\\\\SysWOW64\\\\win32u.dll',\n",
       "       'C:\\\\Windows\\\\SysWOW64\\\\ucrtbase.dll',\n",
       "       'C:\\\\Windows\\\\SysWOW64\\\\msvcp_win.dll',\n",
       "       'C:\\\\Windows\\\\SysWOW64\\\\gdi32full.dll',\n",
       "       'C:\\\\Windows\\\\SysWOW64\\\\gdi32.dll',\n",
       "       'C:\\\\Windows\\\\SysWOW64\\\\user32.dll',\n",
       "       'C:\\\\Windows\\\\SysWOW64\\\\msvcrt.dll',\n",
       "       'C:\\\\Windows\\\\SysWOW64\\\\rpcrt4.dll',\n",
       "       'C:\\\\Windows\\\\SysWOW64\\\\sechost.dll',\n",
       "       'C:\\\\Windows\\\\SysWOW64\\\\advapi32.dll',\n",
       "       'C:\\\\Windows\\\\SysWOW64\\\\shell32.dll',\n",
       "       'C:\\\\Windows\\\\SysWOW64\\\\shlwapi.dll',\n",
       "       'C:\\\\Windows\\\\SysWOW64\\\\ws2_32.dll',\n",
       "       'C:\\\\Windows\\\\SysWOW64\\\\combase.dll',\n",
       "       'C:\\\\Windows\\\\SysWOW64\\\\SHCore.dll',\n",
       "       'C:\\\\Windows\\\\SysWOW64\\\\imm32.dll',\n",
       "       'C:\\\\Users\\\\hoang\\\\Desktop\\\\4069\\\\Tutorial2\\\\SystemResources\\\\charles.exe.mun',\n",
       "       'C:\\\\Windows\\\\SysWOW64\\\\edgegdi.dll',\n",
       "       'C:\\\\Windows\\\\SysWOW64\\\\psapi.dll',\n",
       "       'C:\\\\Users\\\\hoang\\\\AppData\\\\Roaming', 'C:\\\\', 'C:\\\\Users',\n",
       "       'C:\\\\Users\\\\hoang', 'C:\\\\Users\\\\hoang\\\\AppData',\n",
       "       'C:\\\\Users\\\\hoang\\\\AppData\\\\Roaming\\\\naughtyme',\n",
       "       'C:\\\\Users\\\\hoang\\\\AppData\\\\Roaming\\\\naughtyme\\\\funny.exe',\n",
       "       'C:\\\\Windows\\\\SysWOW64\\\\ntmarta.dll',\n",
       "       'C:\\\\Users\\\\hoang\\\\AppData\\\\Local\\\\Temp\\\\install.bat',\n",
       "       'C:\\\\Windows\\\\Globalization\\\\Sorting\\\\SortDefault.nls',\n",
       "       'C:\\\\Windows\\\\SysWOW64\\\\bcryptprimitives.dll',\n",
       "       'C:\\\\Windows\\\\SysWOW64\\\\windows.storage.dll',\n",
       "       'C:\\\\Users\\\\hoang\\\\Desktop\\\\4069\\\\Tutorial2\\\\Tutorial2\\\\Wldp.dll',\n",
       "       'C:\\\\Windows\\\\SysWOW64\\\\wldp.dll',\n",
       "       'C:\\\\Windows\\\\SysWOW64\\\\rpcss.dll',\n",
       "       'C:\\\\Windows\\\\SysWOW64\\\\kernel.appcore.dll',\n",
       "       'C:\\\\Windows\\\\SysWOW64\\\\uxtheme.dll',\n",
       "       'C:\\\\Windows\\\\SysWOW64\\\\ole32.dll',\n",
       "       'C:\\\\Windows\\\\SysWOW64\\\\oleaut32.dll',\n",
       "       'C:\\\\Users\\\\hoang\\\\AppData\\\\Local\\\\Temp',\n",
       "       'C:\\\\Users\\\\hoang\\\\Desktop\\\\4069\\\\Tutorial2\\\\Tutorial2\\\\PROPSYS.dll',\n",
       "       'C:\\\\Windows\\\\SysWOW64\\\\propsys.dll',\n",
       "       'C:\\\\Windows\\\\SysWOW64\\\\clbcatq.dll',\n",
       "       'C:\\\\Windows\\\\System32\\\\propsys.dll',\n",
       "       'C:\\\\Windows\\\\SysWOW64\\\\en-US\\\\PROPSYS.dll.mui',\n",
       "       'C:\\\\Windows\\\\System32\\\\en-US\\\\propsys.dll.mui',\n",
       "       'C:\\\\Users\\\\hoang\\\\AppData\\\\Local\\\\Microsoft\\\\Windows\\\\Caches',\n",
       "       'C:\\\\Users\\\\hoang\\\\AppData\\\\Local\\\\Microsoft\\\\Windows\\\\Caches\\\\cversions.1.db',\n",
       "       'C:\\\\Users\\\\hoang\\\\AppData\\\\Local\\\\Microsoft\\\\Windows\\\\Caches\\\\{AFBF9F1A-8EE8-4C77-AF34-C647E37CA0D9}.1.ver0x000000000000000b.db',\n",
       "       'C:\\\\Users\\\\hoang\\\\Desktop\\\\desktop.ini',\n",
       "       'C:\\\\Users\\\\hoang\\\\Desktop\\\\4069\\\\Tutorial2\\\\Tutorial2\\\\profapi.dll',\n",
       "       'C:\\\\Windows\\\\SysWOW64\\\\profapi.dll',\n",
       "       'C:\\\\Users\\\\hoang\\\\Documents\\\\desktop.ini',\n",
       "       'C:\\\\Users\\\\hoang\\\\Music\\\\desktop.ini',\n",
       "       'C:\\\\Users\\\\hoang\\\\Pictures\\\\desktop.ini',\n",
       "       'C:\\\\Users\\\\hoang\\\\Videos\\\\desktop.ini',\n",
       "       'C:\\\\Users\\\\hoang\\\\Downloads\\\\desktop.ini',\n",
       "       'C:\\\\Users\\\\hoang\\\\OneDrive\\\\desktop.ini',\n",
       "       'C:\\\\Users\\\\hoang\\\\Searches\\\\desktop.ini',\n",
       "       'C:\\\\Users\\\\hoang\\\\Contacts\\\\desktop.ini',\n",
       "       'C:\\\\Users\\\\hoang\\\\Favorites\\\\desktop.ini',\n",
       "       'C:\\\\Users\\\\hoang\\\\Links\\\\desktop.ini',\n",
       "       'C:\\\\Users\\\\hoang\\\\Saved Games\\\\desktop.ini',\n",
       "       'C:\\\\Users\\\\desktop.ini',\n",
       "       'C:\\\\Windows\\\\SysWOW64\\\\Windows.FileExplorer.Common.dll',\n",
       "       'C:\\\\Windows\\\\SysWOW64',\n",
       "       'C:\\\\Users\\\\hoang\\\\Desktop\\\\4069\\\\Tutorial2\\\\Tutorial2\\\\edputil.dll',\n",
       "       'C:\\\\Windows\\\\SysWOW64\\\\edputil.dll',\n",
       "       'C:\\\\Windows\\\\SysWOW64\\\\cfgmgr32.dll',\n",
       "       'C:\\\\Windows\\\\SysWOW64\\\\Windows.StateRepositoryPS.dll',\n",
       "       'C:\\\\Users\\\\hoang\\\\Desktop\\\\4069\\\\Tutorial2\\\\Tutorial2\\\\SspiCli.dll',\n",
       "       'C:\\\\Windows\\\\SysWOW64\\\\sspicli.dll',\n",
       "       'C:\\\\Users\\\\hoang\\\\AppData\\\\Local\\\\Microsoft\\\\Windows\\\\INetCache',\n",
       "       'C:\\\\Users\\\\hoang\\\\AppData\\\\Local\\\\Microsoft\\\\Windows\\\\INetCookies',\n",
       "       'C:\\\\Users\\\\hoang\\\\AppData\\\\Local',\n",
       "       'C:\\\\Users\\\\hoang\\\\AppData\\\\Local\\\\Temp\\\\install.bat:Zone.Identifier',\n",
       "       'C:\\\\Windows\\\\SysWOW64\\\\cldapi.dll',\n",
       "       'C:\\\\Windows\\\\SysWOW64\\\\fltLib.dll',\n",
       "       'C:\\\\Windows\\\\SysWOW64\\\\bcrypt.dll',\n",
       "       'C:\\\\Windows\\\\SysWOW64\\\\WinTypes.dll',\n",
       "       'C:\\\\Windows\\\\SysWOW64\\\\AppResolver.dll',\n",
       "       'C:\\\\Windows\\\\SysWOW64\\\\BCP47Langs.dll',\n",
       "       'C:\\\\Windows\\\\SysWOW64\\\\slc.dll',\n",
       "       'C:\\\\Windows\\\\SysWOW64\\\\userenv.dll',\n",
       "       'C:\\\\Windows\\\\SysWOW64\\\\sppc.dll',\n",
       "       'C:\\\\Windows\\\\SysWOW64\\\\OneCoreCommonProxyStub.dll',\n",
       "       'C:\\\\Windows\\\\SysWOW64\\\\OneCoreUAPCommonProxyStub.dll',\n",
       "       'C:\\\\Windows\\\\SysWOW64\\\\cmd.exe',\n",
       "       'C:\\\\Windows\\\\Prefetch\\\\FUNNY.EXE-4019F140.pf',\n",
       "       'C:\\\\Users\\\\hoang\\\\AppData\\\\Roaming\\\\naughtyme\\\\funny.exe.Local',\n",
       "       'C:\\\\Users\\\\hoang\\\\AppData\\\\Roaming\\\\naughtyme\\\\MSVCP60.dll',\n",
       "       'C:\\\\Users\\\\hoang\\\\AppData\\\\Roaming\\\\naughtyme\\\\WINMM.dll',\n",
       "       'C:\\\\Users\\\\hoang\\\\AppData\\\\Roaming\\\\naughtyme\\\\urlmon.dll',\n",
       "       'C:\\\\Users\\\\hoang\\\\AppData\\\\Roaming\\\\naughtyme\\\\WININET.dll',\n",
       "       'C:\\\\Users\\\\hoang\\\\AppData\\\\Roaming\\\\naughtyme\\\\iertutil.dll',\n",
       "       'C:\\\\Users\\\\hoang\\\\AppData\\\\Roaming\\\\SystemResources\\\\funny.exe.mun',\n",
       "       'C:\\\\Users\\\\hoang\\\\AppData\\\\Roaming\\\\naughtyme\\\\SspiCli.dll',\n",
       "       'C:\\\\Windows\\\\SysWOW64\\\\mswsock.dll',\n",
       "       'C:\\\\Windows\\\\SysWOW64\\\\NapiNSP.dll',\n",
       "       'C:\\\\Windows\\\\SysWOW64\\\\pnrpnsp.dll',\n",
       "       'C:\\\\Windows\\\\SysWOW64\\\\wshbth.dll',\n",
       "       'C:\\\\Windows\\\\SysWOW64\\\\nlaapi.dll',\n",
       "       'C:\\\\Users\\\\hoang\\\\AppData\\\\Roaming\\\\naughtyme\\\\IPHLPAPI.DLL',\n",
       "       'C:\\\\Windows\\\\SysWOW64\\\\IPHLPAPI.DLL',\n",
       "       'C:\\\\Windows\\\\SysWOW64\\\\dnsapi.dll',\n",
       "       'C:\\\\Windows\\\\SysWOW64\\\\nsi.dll',\n",
       "       'C:\\\\Windows\\\\SysWOW64\\\\winrnr.dll',\n",
       "       'C:\\\\Windows\\\\SysWOW64\\\\rasadhlp.dll',\n",
       "       'C:\\\\Users\\\\hoang\\\\AppData\\\\Roaming\\\\naughtyme\\\\yourpasswords_wahaha.dat'],\n",
       "      dtype=object)"
      ]
     },
     "execution_count": 9,
     "metadata": {},
     "output_type": "execute_result"
    }
   ],
   "source": [
    "CreateFileEvents[\"Path\"].unique()"
   ]
  },
  {
   "cell_type": "code",
   "execution_count": 13,
   "metadata": {},
   "outputs": [],
   "source": [
    "bat_event= charlesDF[charlesDF[\"Path\"]=='C:\\\\Users\\\\hoang\\\\AppData\\\\Local\\\\Temp\\\\install.bat']"
   ]
  },
  {
   "cell_type": "code",
   "execution_count": 39,
   "metadata": {},
   "outputs": [
    {
     "data": {
      "text/html": [
       "<div>\n",
       "<style scoped>\n",
       "    .dataframe tbody tr th:only-of-type {\n",
       "        vertical-align: middle;\n",
       "    }\n",
       "\n",
       "    .dataframe tbody tr th {\n",
       "        vertical-align: top;\n",
       "    }\n",
       "\n",
       "    .dataframe thead th {\n",
       "        text-align: right;\n",
       "    }\n",
       "</style>\n",
       "<table border=\"1\" class=\"dataframe\">\n",
       "  <thead>\n",
       "    <tr style=\"text-align: right;\">\n",
       "      <th></th>\n",
       "      <th>Time of Day</th>\n",
       "      <th>Process Name</th>\n",
       "      <th>PID</th>\n",
       "      <th>Operation</th>\n",
       "      <th>Path</th>\n",
       "      <th>Result</th>\n",
       "      <th>Detail</th>\n",
       "    </tr>\n",
       "  </thead>\n",
       "  <tbody>\n",
       "    <tr>\n",
       "      <th>669</th>\n",
       "      <td>11:23:30.3566045 PM</td>\n",
       "      <td>charles.exe</td>\n",
       "      <td>1800</td>\n",
       "      <td>SetEndOfFileInformationFile</td>\n",
       "      <td>C:\\Users\\hoang\\AppData\\Roaming\\naughtyme\\funny...</td>\n",
       "      <td>SUCCESS</td>\n",
       "      <td>EndOfFile: 36,864</td>\n",
       "    </tr>\n",
       "    <tr>\n",
       "      <th>9782</th>\n",
       "      <td>11:23:30.6243177 PM</td>\n",
       "      <td>charles.exe</td>\n",
       "      <td>1800</td>\n",
       "      <td>SetEndOfFileInformationFile</td>\n",
       "      <td>C:\\Users\\hoang\\AppData\\Local\\Temp\\install.bat</td>\n",
       "      <td>SUCCESS</td>\n",
       "      <td>EndOfFile: 101</td>\n",
       "    </tr>\n",
       "  </tbody>\n",
       "</table>\n",
       "</div>"
      ],
      "text/plain": [
       "              Time of Day Process Name   PID                    Operation  \\\n",
       "669   11:23:30.3566045 PM  charles.exe  1800  SetEndOfFileInformationFile   \n",
       "9782  11:23:30.6243177 PM  charles.exe  1800  SetEndOfFileInformationFile   \n",
       "\n",
       "                                                   Path   Result  \\\n",
       "669   C:\\Users\\hoang\\AppData\\Roaming\\naughtyme\\funny...  SUCCESS   \n",
       "9782      C:\\Users\\hoang\\AppData\\Local\\Temp\\install.bat  SUCCESS   \n",
       "\n",
       "                 Detail  \n",
       "669   EndOfFile: 36,864  \n",
       "9782     EndOfFile: 101  "
      ]
     },
     "execution_count": 39,
     "metadata": {},
     "output_type": "execute_result"
    }
   ],
   "source": [
    "delete_events = charlesDF[charlesDF[\"Operation\"]=='SetEndOfFileInformationFile']\n",
    "delete_events"
   ]
  },
  {
   "cell_type": "code",
   "execution_count": 34,
   "metadata": {},
   "outputs": [
    {
     "name": "stdout",
     "output_type": "stream",
     "text": [
      "Desired Access: Generic Write, Read Attributes, Disposition: OverwriteIf, Options: Synchronous IO Non-Alert, Non-Directory File, Attributes: N, ShareMode: Read, Write, AllocationSize: 0, OpenResult: Created\n",
      "Offset: 0, Length: 101, Priority: Normal\n",
      "nan\n",
      "FileInformationClass: FileIdBothDirectoryInformation, Filter: install.bat, 2: install.bat\n",
      "Desired Access: Read Attributes, Disposition: Open, Options: Open Reparse Point, Attributes: n/a, ShareMode: Read, Write, Delete, AllocationSize: n/a, OpenResult: Opened\n",
      "CreationTime: 2/6/2021 11:23:30 PM, LastAccessTime: 2/6/2021 11:23:30 PM, LastWriteTime: 2/6/2021 11:23:30 PM, ChangeTime: 2/6/2021 11:23:30 PM, FileAttributes: A\n",
      "nan\n",
      "FileInformationClass: FileBothDirectoryInformation, Filter: install.bat, 2: install.bat\n",
      "Desired Access: Read Attributes, Disposition: Open, Options: Open Reparse Point, Attributes: n/a, ShareMode: Read, Write, Delete, AllocationSize: n/a, OpenResult: Opened\n",
      "CreationTime: 2/6/2021 11:23:30 PM, LastAccessTime: 2/6/2021 11:23:30 PM, LastWriteTime: 2/6/2021 11:23:30 PM, ChangeTime: 2/6/2021 11:23:30 PM, FileAttributes: A\n",
      "nan\n",
      "Desired Access: Read Attributes, Read Control, Synchronize, Disposition: Open, Options: Synchronous IO Non-Alert, Non-Directory File, Disallow Exclusive, Attributes: n/a, ShareMode: Read, Write, AllocationSize: n/a, OpenResult: Opened\n",
      "Information: Label\n",
      "Information: Label\n",
      "nan\n",
      "Desired Access: Read Attributes, Disposition: Open, Options: Open Reparse Point, Attributes: n/a, ShareMode: Read, Write, Delete, AllocationSize: n/a, OpenResult: Opened\n",
      "CreationTime: 2/6/2021 11:23:30 PM, LastAccessTime: 2/6/2021 11:23:30 PM, LastWriteTime: 2/6/2021 11:23:30 PM, ChangeTime: 2/6/2021 11:23:30 PM, FileAttributes: A\n",
      "nan\n",
      "Desired Access: Read Attributes, Disposition: Open, Options: Open Reparse Point, Attributes: n/a, ShareMode: Read, Write, Delete, AllocationSize: n/a, OpenResult: Opened\n",
      "CreationTime: 2/6/2021 11:23:30 PM, LastAccessTime: 2/6/2021 11:23:30 PM, LastWriteTime: 2/6/2021 11:23:30 PM, ChangeTime: 2/6/2021 11:23:30 PM, FileAttributes: A\n",
      "nan\n",
      "FileInformationClass: FileIdBothDirectoryInformation, Filter: install.bat, 2: install.bat\n",
      "FileInformationClass: FileIdBothDirectoryInformation, Filter: install.bat, 2: install.bat\n",
      "FileInformationClass: FileIdBothDirectoryInformation, Filter: install.bat, 2: install.bat\n",
      "FileInformationClass: FileIdBothDirectoryInformation, Filter: install.bat, 2: install.bat\n",
      "Desired Access: Read Attributes, Disposition: Open, Options: Open Reparse Point, Attributes: n/a, ShareMode: Read, Write, Delete, AllocationSize: n/a, OpenResult: Opened\n",
      "CreationTime: 2/6/2021 11:23:30 PM, LastAccessTime: 2/6/2021 11:23:30 PM, LastWriteTime: 2/6/2021 11:23:30 PM, ChangeTime: 2/6/2021 11:23:30 PM, FileAttributes: A\n",
      "nan\n",
      "Desired Access: Read Attributes, Disposition: Open, Options: Open Reparse Point, Attributes: n/a, ShareMode: Read, Write, Delete, AllocationSize: n/a, OpenResult: Opened\n",
      "CreationTime: 2/6/2021 11:23:30 PM, LastAccessTime: 2/6/2021 11:23:30 PM, LastWriteTime: 2/6/2021 11:23:30 PM, ChangeTime: 2/6/2021 11:23:30 PM, FileAttributes: A\n",
      "nan\n",
      "Desired Access: Read Data/List Directory, Execute/Traverse, Read Attributes, Synchronize, Disposition: Open, Options: Synchronous IO Non-Alert, Non-Directory File, Attributes: N, ShareMode: Read, Delete, AllocationSize: n/a, OpenResult: Opened\n",
      "Offset: 0, Length: 4,096, I/O Flags: Non-cached, Paging I/O, Synchronous Paging I/O, Priority: Normal\n",
      "EndOfFile: 101\n",
      "SyncType: SyncTypeOther\n",
      "SyncType: SyncTypeCreateSection, PageProtection: PAGE_EXECUTE_READ|PAGE_NOCACHE\n",
      "AllocationSize: 104, EndOfFile: 101, NumberOfLinks: 1, DeletePending: False, Directory: False\n",
      "nan\n"
     ]
    }
   ],
   "source": [
    "batdetails = bat_event[bat_event[\"Path\"]=='C:\\\\Users\\\\hoang\\\\AppData\\\\Local\\\\Temp\\\\install.bat'].loc[:,\"Detail\"]\n",
    "for i in list(batdetails):\n",
    "    print(i)"
   ]
  },
  {
   "cell_type": "markdown",
   "metadata": {},
   "source": [
    "## Registry stuff"
   ]
  },
  {
   "cell_type": "code",
   "execution_count": 22,
   "metadata": {},
   "outputs": [],
   "source": [
    "RegEvents = charlesDF[(charlesDF[\"Operation\"] == 'RegCreateKey') | (charlesDF[\"Operation\"] ==  'RegSetValue')]"
   ]
  },
  {
   "cell_type": "code",
   "execution_count": 24,
   "metadata": {},
   "outputs": [
    {
     "data": {
      "text/plain": [
       "array(['HKCU\\\\Software\\\\Microsoft\\\\Windows\\\\CurrentVersion\\\\Run\\\\',\n",
       "       'HKCU\\\\SOFTWARE\\\\Microsoft\\\\Windows\\\\CurrentVersion\\\\Run\\\\CECZ4069',\n",
       "       'HKLM\\\\SOFTWARE\\\\Microsoft\\\\Windows\\\\CurrentVersion\\\\Explorer\\\\SyncRootManager',\n",
       "       'HKCU\\\\Software\\\\Microsoft\\\\Windows\\\\CurrentVersion\\\\Internet Settings\\\\ZoneMap\\\\',\n",
       "       'HKCU\\\\SOFTWARE\\\\Microsoft\\\\Windows\\\\CurrentVersion\\\\Internet Settings\\\\ZoneMap\\\\ProxyBypass',\n",
       "       'HKCU\\\\SOFTWARE\\\\Microsoft\\\\Windows\\\\CurrentVersion\\\\Internet Settings\\\\ZoneMap\\\\IntranetName',\n",
       "       'HKCU\\\\SOFTWARE\\\\Microsoft\\\\Windows\\\\CurrentVersion\\\\Internet Settings\\\\ZoneMap\\\\UNCAsIntranet',\n",
       "       'HKCU\\\\SOFTWARE\\\\Microsoft\\\\Windows\\\\CurrentVersion\\\\Internet Settings\\\\ZoneMap\\\\AutoDetect',\n",
       "       'HKLM\\\\SOFTWARE\\\\Microsoft\\\\Windows NT\\\\CurrentVersion\\\\Notifications\\\\Data\\\\418A073AA3BC3475',\n",
       "       'HKLM\\\\SOFTWARE\\\\Microsoft\\\\Windows NT\\\\CurrentVersion\\\\Notifications\\\\Data\\\\418A073AA3BC1C75',\n",
       "       'HKCU\\\\Software\\\\remcos_qdjxftopkdxsguz\\\\',\n",
       "       'HKCU\\\\SOFTWARE\\\\remcos_qdjxftopkdxsguz\\\\EXEpath',\n",
       "       'HKLM\\\\System\\\\CurrentControlSet\\\\Services\\\\Tcpip\\\\Parameters'],\n",
       "      dtype=object)"
      ]
     },
     "execution_count": 24,
     "metadata": {},
     "output_type": "execute_result"
    }
   ],
   "source": [
    "RegEvents[\"Path\"].unique()"
   ]
  },
  {
   "cell_type": "code",
   "execution_count": 31,
   "metadata": {},
   "outputs": [
    {
     "name": "stdout",
     "output_type": "stream",
     "text": [
      "['Type: REG_SZ, Length: 106, Data: \"C:\\\\Users\\\\hoang\\\\AppData\\\\Roaming\\\\naughtyme\\\\funny.exe\"', 'Type: REG_SZ, Length: 106, Data: \"C:\\\\Users\\\\hoang\\\\AppData\\\\Roaming\\\\naughtyme\\\\funny.exe\"']\n"
     ]
    }
   ],
   "source": [
    "details = RegEvents[RegEvents[\"Path\"]=='HKCU\\\\SOFTWARE\\\\Microsoft\\\\Windows\\\\CurrentVersion\\\\Run\\\\CECZ4069'].loc[:,\"Detail\"]\n",
    "print(list(details))"
   ]
  }
 ],
 "metadata": {
  "kernelspec": {
   "display_name": "ML",
   "language": "python",
   "name": "ml"
  },
  "language_info": {
   "codemirror_mode": {
    "name": "ipython",
    "version": 3
   },
   "file_extension": ".py",
   "mimetype": "text/x-python",
   "name": "python",
   "nbconvert_exporter": "python",
   "pygments_lexer": "ipython3",
   "version": "3.7.9"
  }
 },
 "nbformat": 4,
 "nbformat_minor": 4
}
