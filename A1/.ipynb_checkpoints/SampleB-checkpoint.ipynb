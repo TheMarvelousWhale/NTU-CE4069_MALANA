{
 "cells": [
  {
   "cell_type": "code",
   "execution_count": 1,
   "metadata": {},
   "outputs": [],
   "source": [
    "import numpy as np\n",
    "import pandas as pd"
   ]
  },
  {
   "cell_type": "code",
   "execution_count": 2,
   "metadata": {},
   "outputs": [],
   "source": [
    "bDF = pd.read_csv(\"b_procmon.csv\")"
   ]
  },
  {
   "cell_type": "code",
   "execution_count": 7,
   "metadata": {
    "scrolled": true
   },
   "outputs": [
    {
     "name": "stdout",
     "output_type": "stream",
     "text": [
      "Process Name: ['Sample_B.exe']\n",
      "Operation: ['Process Start' 'Thread Create' 'Load Image' 'CreateFile' 'RegOpenKey'\n",
      " 'RegQueryValue' 'RegCloseKey' 'QueryBasicInformationFile' 'CloseFile'\n",
      " 'CreateFileMapping' 'RegQueryKey' 'RegEnumKey' 'RegEnumValue'\n",
      " 'QueryDirectory' 'QueryStandardInformationFile' 'ReadFile'\n",
      " 'QueryNetworkOpenInformationFile' 'QueryNameInformationFile'\n",
      " 'RegCreateKey' 'RegSetValue' 'SetEndOfFileInformationFile' 'WriteFile'\n",
      " 'QueryAttributeTagFile' 'QueryStreamInformationFile'\n",
      " 'QueryEaInformationFile' 'QueryAttributeInformationVolume'\n",
      " 'SetBasicInformationFile' 'QuerySecurityFile' 'FileSystemControl'\n",
      " 'Process Create' 'Thread Exit' 'Process Exit']\n",
      "Path: [nan\n",
      " 'C:\\\\Users\\\\IEUser\\\\Desktop\\\\Assignment 1(2)\\\\Assignment 1\\\\Malware samples\\\\Sample_B\\\\Sample_B.exe'\n",
      " 'C:\\\\Windows\\\\System32\\\\ntdll.dll' ...\n",
      " 'C:\\\\Windows\\\\System32\\\\apisetschema.dll'\n",
      " 'HKLM\\\\SOFTWARE\\\\Microsoft\\\\Fusion\\\\GACChangeNotification\\\\Default'\n",
      " 'HKLM\\\\SOFTWARE\\\\Microsoft\\\\Windows\\\\CurrentVersion\\\\Internet Settings\\\\ZoneMap']\n",
      "Result: ['SUCCESS' 'NAME NOT FOUND' 'REPARSE' 'FILE LOCKED WITH ONLY READERS'\n",
      " 'NO MORE FILES' 'NO MORE ENTRIES' 'BUFFER OVERFLOW' 'NAME COLLISION'\n",
      " 'PATH NOT FOUND' 'NO SUCH FILE' 'END OF FILE' 'FILE LOCKED WITH WRITERS'\n",
      " 'BUFFER TOO SMALL' 'INVALID DEVICE REQUEST']\n",
      "Detail: ['Parent PID: 1316, Command line: \"C:\\\\Users\\\\IEUser\\\\Desktop\\\\Assignment 1(2)\\\\Assignment 1\\\\Malware samples\\\\Sample_B\\\\Sample_B.exe\" , Current directory: C:\\\\Users\\\\IEUser\\\\Desktop\\\\Assignment 1(2)\\\\Assignment 1\\\\Malware samples\\\\Sample_B\\\\, Environment: \\r;\\t=::=::\\\\\\r;\\tALLUSERSPROFILE=C:\\\\ProgramData\\r;\\tAPPDATA=C:\\\\Users\\\\IEUser\\\\AppData\\\\Roaming\\r;\\tCommonProgramFiles=C:\\\\Program Files\\\\Common Files\\r;\\tCOMPUTERNAME=IEWIN7\\r;\\tComSpec=C:\\\\Windows\\\\system32\\\\cmd.exe\\r;\\tCYGWIN=mintty\\r;\\tFP_NO_HOST_CHECK=NO\\r;\\tHOMEDRIVE=C:\\r;\\tHOMEPATH=\\\\Users\\\\IEUser\\r;\\tLOCALAPPDATA=C:\\\\Users\\\\IEUser\\\\AppData\\\\Local\\r;\\tLOGONSERVER=\\\\\\\\IEWIN7\\r;\\tMpConfig_ProductAppDataPath=C:\\\\ProgramData\\\\Microsoft\\\\Windows Defender\\r;\\tMpConfig_ProductCodeName=AntiSpyware\\r;\\tMpConfig_ProductPath=C:\\\\Program Files\\\\Windows Defender\\r;\\tMpConfig_ProductUserAppDataPath=C:\\\\Users\\\\IEUser\\\\AppData\\\\Local\\\\Microsoft\\\\Windows Defender\\r;\\tMpConfig_ReportingGUID=C0880230-2DBF-4F53-91FF-94BE2A0FCA3B\\r;\\tNUMBER_OF_PROCESSORS=1\\r;\\tOS=Windows_NT\\r;\\tPath=C:\\\\Windows\\\\system32;C:\\\\Windows;C:\\\\Windows\\\\System32\\\\Wbem;C:\\\\Windows\\\\System32\\\\WindowsPowerShell\\\\v1.0\\\\;C:\\\\Program Files\\\\OpenSSH\\\\bin\\r;\\tPATHEXT=.COM;.EXE;.BAT;.CMD;.VBS;.VBE;.JS;.JSE;.WSF;.WSH;.MSC\\r;\\tPROCESSOR_ARCHITECTURE=x86\\r;\\tPROCESSOR_IDENTIFIER=x86 Family 6 Model 158 Stepping 10, GenuineIntel\\r;\\tPROCESSOR_LEVEL=6\\r;\\tPROCESSOR_REVISION=9e0a\\r;\\tProgramData=C:\\\\ProgramData\\r;\\tProgramFiles=C:\\\\Program Files\\r;\\tPSModulePath=C:\\\\Windows\\\\system32\\\\WindowsPowerShell\\\\v1.0\\\\Modules\\\\\\r;\\tPUBLIC=C:\\\\Users\\\\Public\\r;\\tSESSIONNAME=Console\\r;\\tSystemDrive=C:\\r;\\tSystemRoot=C:\\\\Windows\\r;\\tTEMP=C:\\\\Users\\\\IEUser\\\\AppData\\\\Local\\\\Temp\\r;\\tTMP=C:\\\\Users\\\\IEUser\\\\AppData\\\\Local\\\\Temp\\r;\\tUSERDOMAIN=IEWIN7\\r;\\tUSERNAME=IEUser\\r;\\tUSERPROFILE=C:\\\\Users\\\\IEUser\\r;\\twindir=C:\\\\Windows'\n",
      " 'Thread ID: 3944' 'Image Base: 0xfd0000, Image Size: 0x88000' ...\n",
      " 'Name: \\\\Windows\\\\System32\\\\user32.dll'\n",
      " 'Name: \\\\Windows\\\\System32\\\\apisetschema.dll'\n",
      " 'Exit Status: 0, User Time: 0.0500720 seconds, Kernel Time: 0.5407776 seconds, Private Bytes: 36,585,472, Peak Private Bytes: 36,610,048, Working Set: 38,141,952, Peak Working Set: 38,285,312']\n",
      "dict_keys(['Process Name', 'Operation', 'Path', 'Result', 'Detail'])\n"
     ]
    }
   ],
   "source": [
    "uniq_ops = {}\n",
    "for col_name in list(bDF.columns):\n",
    "    if col_name in [\"Time of Day\",\"PID\"]:  #skip these\n",
    "        continue\n",
    "    _tmp = bDF.loc[:,col_name].unique()\n",
    "    print(f\"{col_name}: {_tmp}\")\n",
    "    uniq_ops[col_name] = _tmp\n",
    "print(uniq_ops.keys())"
   ]
  },
  {
   "cell_type": "code",
   "execution_count": 8,
   "metadata": {},
   "outputs": [
    {
     "name": "stdout",
     "output_type": "stream",
     "text": [
      "\u001b[31m==========================\u001b[0m RegSetValue \u001b[31m===========================\u001b[0m\n",
      "Sample_B.exe --RegSetValue -- HKCU\\Software\\Microsoft\\GDIPlus\\FontCachePath -- Type: REG_SZ, Length: 60, Data: C:\\Users\\IEUser\\AppData\\Local\n",
      "Sample_B.exe --RegSetValue -- HKCU\\Software\\Microsoft\\Windows\\CurrentVersion\\Internet Settings\\ZoneMap\\ProxyBypass -- Type: REG_DWORD, Length: 4, Data: 1\n",
      "Sample_B.exe --RegSetValue -- HKCU\\Software\\Microsoft\\Windows\\CurrentVersion\\Internet Settings\\ZoneMap\\IntranetName -- Type: REG_DWORD, Length: 4, Data: 1\n",
      "Sample_B.exe --RegSetValue -- HKCU\\Software\\Microsoft\\Windows\\CurrentVersion\\Internet Settings\\ZoneMap\\UNCAsIntranet -- Type: REG_DWORD, Length: 4, Data: 1\n",
      "Sample_B.exe --RegSetValue -- HKCU\\Software\\Microsoft\\Windows\\CurrentVersion\\Internet Settings\\ZoneMap\\AutoDetect -- Type: REG_DWORD, Length: 4, Data: 0\n",
      "Sample_B.exe --RegSetValue -- HKCU\\Software\\Microsoft\\Windows\\CurrentVersion\\Internet Settings\\ZoneMap\\ProxyBypass -- Type: REG_DWORD, Length: 4, Data: 1\n",
      "Sample_B.exe --RegSetValue -- HKCU\\Software\\Microsoft\\Windows\\CurrentVersion\\Internet Settings\\ZoneMap\\IntranetName -- Type: REG_DWORD, Length: 4, Data: 1\n",
      "Sample_B.exe --RegSetValue -- HKCU\\Software\\Microsoft\\Windows\\CurrentVersion\\Internet Settings\\ZoneMap\\UNCAsIntranet -- Type: REG_DWORD, Length: 4, Data: 1\n",
      "Sample_B.exe --RegSetValue -- HKCU\\Software\\Microsoft\\Windows\\CurrentVersion\\Internet Settings\\ZoneMap\\AutoDetect -- Type: REG_DWORD, Length: 4, Data: 0\n"
     ]
    }
   ],
   "source": [
    "def see_events(df,ops_list,pid=None):\n",
    "    for op in ops_list:\n",
    "        print(\"\\x1b[31m==========================\\x1b[0m\",op,\"\\x1b[31m===========================\\x1b[0m\")#\"\\x1b[31m\\\"red\\\"\\x1b[0m\"\n",
    "        Events = df[(df[\"Operation\"] == op)]\n",
    "        if pid == None:\n",
    "            for i in range(len(Events)):\n",
    "                print(f\"{Events.iloc[i,1]} --{Events.iloc[i,3]} -- {Events.iloc[i,4]} -- {Events.iloc[i,6]}\")\n",
    "        else:\n",
    "            for i in range(len(Events)):\n",
    "                if Events.iloc[i,1] == pid:\n",
    "                    print(f\"{Events.iloc[i,1]} --{Events.iloc[i,3]} -- {Events.iloc[i,4]} -- {Events.iloc[i,6]}\")\n",
    "#To see all registry events, uncomment the below\n",
    "#see_events(aDF,[ops for ops in uniq_ops[\"Operation\"] if ops.startswith(\"Reg\")])\n",
    "#The only interesting ones are RegSetValue\n",
    "see_events(bDF,[\"RegSetValue\"])"
   ]
  },
  {
   "cell_type": "code",
   "execution_count": null,
   "metadata": {},
   "outputs": [],
   "source": []
  }
 ],
 "metadata": {
  "kernelspec": {
   "display_name": "base",
   "language": "python",
   "name": "base"
  },
  "language_info": {
   "codemirror_mode": {
    "name": "ipython",
    "version": 3
   },
   "file_extension": ".py",
   "mimetype": "text/x-python",
   "name": "python",
   "nbconvert_exporter": "python",
   "pygments_lexer": "ipython3",
   "version": "3.7.6"
  }
 },
 "nbformat": 4,
 "nbformat_minor": 4
}
