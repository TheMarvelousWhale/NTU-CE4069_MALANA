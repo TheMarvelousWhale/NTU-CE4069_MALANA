{
 "cells": [
  {
   "cell_type": "code",
   "execution_count": 1,
   "metadata": {},
   "outputs": [],
   "source": [
    "import numpy as np\n",
    "import pandas as pd"
   ]
  },
  {
   "cell_type": "code",
   "execution_count": 2,
   "metadata": {},
   "outputs": [],
   "source": [
    "bDF = pd.read_csv(\"b_procmon_uwu.csv\")"
   ]
  },
  {
   "cell_type": "code",
   "execution_count": 3,
   "metadata": {
    "scrolled": true
   },
   "outputs": [
    {
     "name": "stdout",
     "output_type": "stream",
     "text": [
      "Process Name: ['Sample_B.exe' 'Windows Update.exe']\n",
      "Operation: ['Process Start' 'Thread Create' 'Load Image' 'CreateFile' 'RegOpenKey'\n",
      " 'RegQueryValue' 'RegCloseKey' 'QueryBasicInformationFile' 'CloseFile'\n",
      " 'CreateFileMapping' 'RegQueryKey' 'RegEnumKey' 'RegEnumValue'\n",
      " 'QueryDirectory' 'QueryStandardInformationFile' 'ReadFile'\n",
      " 'QueryNetworkOpenInformationFile' 'QueryNameInformationFile'\n",
      " 'RegCreateKey' 'RegSetValue' 'SetEndOfFileInformationFile' 'WriteFile'\n",
      " 'QueryAttributeTagFile' 'QueryStreamInformationFile'\n",
      " 'QueryEaInformationFile' 'QueryAttributeInformationVolume'\n",
      " 'SetBasicInformationFile' 'QuerySecurityFile' 'FileSystemControl'\n",
      " 'Process Create' 'Thread Exit' 'Process Exit'\n",
      " 'SetDispositionInformationFile' 'RegQueryKeySecurity']\n",
      "Path: [nan\n",
      " 'C:\\\\Users\\\\IEUser\\\\Desktop\\\\Assignment 1(2)\\\\Assignment 1\\\\Malware samples\\\\Sample_B\\\\Sample_B.exe'\n",
      " 'C:\\\\Windows\\\\System32\\\\ntdll.dll' ...\n",
      " 'C:\\\\Users\\\\IEUser\\\\AppData\\\\Roaming\\\\.minecraft\\\\lastlogin'\n",
      " 'C:\\\\Users\\\\IEUser\\\\AppData\\\\Roaming\\\\jagex_cache\\\\regPin\\\\IEWIN7_Pin0.jpeg'\n",
      " 'C:\\\\Users\\\\IEUser\\\\AppData\\\\Local\\\\Temp\\\\wallet.dat']\n",
      "Result: ['SUCCESS' 'NAME NOT FOUND' 'REPARSE' 'FILE LOCKED WITH ONLY READERS'\n",
      " 'NO MORE FILES' 'NO MORE ENTRIES' 'BUFFER OVERFLOW' 'NAME COLLISION'\n",
      " 'PATH NOT FOUND' 'NO SUCH FILE' 'END OF FILE' 'FILE LOCKED WITH WRITERS'\n",
      " 'BUFFER TOO SMALL' 'INVALID DEVICE REQUEST']\n",
      "Detail: ['Parent PID: 1316, Command line: \"C:\\\\Users\\\\IEUser\\\\Desktop\\\\Assignment 1(2)\\\\Assignment 1\\\\Malware samples\\\\Sample_B\\\\Sample_B.exe\" , Current directory: C:\\\\Users\\\\IEUser\\\\Desktop\\\\Assignment 1(2)\\\\Assignment 1\\\\Malware samples\\\\Sample_B\\\\, Environment: \\r;\\t=::=::\\\\\\r;\\tALLUSERSPROFILE=C:\\\\ProgramData\\r;\\tAPPDATA=C:\\\\Users\\\\IEUser\\\\AppData\\\\Roaming\\r;\\tCommonProgramFiles=C:\\\\Program Files\\\\Common Files\\r;\\tCOMPUTERNAME=IEWIN7\\r;\\tComSpec=C:\\\\Windows\\\\system32\\\\cmd.exe\\r;\\tCYGWIN=mintty\\r;\\tFP_NO_HOST_CHECK=NO\\r;\\tHOMEDRIVE=C:\\r;\\tHOMEPATH=\\\\Users\\\\IEUser\\r;\\tLOCALAPPDATA=C:\\\\Users\\\\IEUser\\\\AppData\\\\Local\\r;\\tLOGONSERVER=\\\\\\\\IEWIN7\\r;\\tMpConfig_ProductAppDataPath=C:\\\\ProgramData\\\\Microsoft\\\\Windows Defender\\r;\\tMpConfig_ProductCodeName=AntiSpyware\\r;\\tMpConfig_ProductPath=C:\\\\Program Files\\\\Windows Defender\\r;\\tMpConfig_ProductUserAppDataPath=C:\\\\Users\\\\IEUser\\\\AppData\\\\Local\\\\Microsoft\\\\Windows Defender\\r;\\tMpConfig_ReportingGUID=C0880230-2DBF-4F53-91FF-94BE2A0FCA3B\\r;\\tNUMBER_OF_PROCESSORS=1\\r;\\tOS=Windows_NT\\r;\\tPath=C:\\\\Windows\\\\system32;C:\\\\Windows;C:\\\\Windows\\\\System32\\\\Wbem;C:\\\\Windows\\\\System32\\\\WindowsPowerShell\\\\v1.0\\\\;C:\\\\Program Files\\\\OpenSSH\\\\bin\\r;\\tPATHEXT=.COM;.EXE;.BAT;.CMD;.VBS;.VBE;.JS;.JSE;.WSF;.WSH;.MSC\\r;\\tPROCESSOR_ARCHITECTURE=x86\\r;\\tPROCESSOR_IDENTIFIER=x86 Family 6 Model 158 Stepping 10, GenuineIntel\\r;\\tPROCESSOR_LEVEL=6\\r;\\tPROCESSOR_REVISION=9e0a\\r;\\tProgramData=C:\\\\ProgramData\\r;\\tProgramFiles=C:\\\\Program Files\\r;\\tPSModulePath=C:\\\\Windows\\\\system32\\\\WindowsPowerShell\\\\v1.0\\\\Modules\\\\\\r;\\tPUBLIC=C:\\\\Users\\\\Public\\r;\\tSESSIONNAME=Console\\r;\\tSystemDrive=C:\\r;\\tSystemRoot=C:\\\\Windows\\r;\\tTEMP=C:\\\\Users\\\\IEUser\\\\AppData\\\\Local\\\\Temp\\r;\\tTMP=C:\\\\Users\\\\IEUser\\\\AppData\\\\Local\\\\Temp\\r;\\tUSERDOMAIN=IEWIN7\\r;\\tUSERNAME=IEUser\\r;\\tUSERPROFILE=C:\\\\Users\\\\IEUser\\r;\\twindir=C:\\\\Windows'\n",
      " 'Thread ID: 3944' 'Image Base: 0xfd0000, Image Size: 0x88000' ...\n",
      " 'Thread ID: 2772, User Time: 0.0000000, Kernel Time: 0.0000000'\n",
      " 'Thread ID: 2408' 'Thread ID: 3120']\n",
      "dict_keys(['Process Name', 'Operation', 'Path', 'Result', 'Detail'])\n"
     ]
    }
   ],
   "source": [
    "uniq_ops = {}\n",
    "for col_name in list(bDF.columns):\n",
    "    if col_name in [\"Time of Day\",\"PID\"]:  #skip these\n",
    "        continue\n",
    "    _tmp = bDF.loc[:,col_name].unique()\n",
    "    print(f\"{col_name}: {_tmp}\")\n",
    "    uniq_ops[col_name] = _tmp\n",
    "print(uniq_ops.keys())"
   ]
  },
  {
   "cell_type": "code",
   "execution_count": 4,
   "metadata": {
    "scrolled": true
   },
   "outputs": [
    {
     "name": "stdout",
     "output_type": "stream",
     "text": [
      "\u001b[31m==========================\u001b[0m RegSetValue \u001b[31m===========================\u001b[0m\n",
      "Sample_B.exe --RegSetValue -- HKCU\\Software\\Microsoft\\GDIPlus\\FontCachePath -- Type: REG_SZ, Length: 60, Data: C:\\Users\\IEUser\\AppData\\Local\n",
      "Sample_B.exe --RegSetValue -- HKCU\\Software\\Microsoft\\Windows\\CurrentVersion\\Internet Settings\\ZoneMap\\ProxyBypass -- Type: REG_DWORD, Length: 4, Data: 1\n",
      "Sample_B.exe --RegSetValue -- HKCU\\Software\\Microsoft\\Windows\\CurrentVersion\\Internet Settings\\ZoneMap\\IntranetName -- Type: REG_DWORD, Length: 4, Data: 1\n",
      "Sample_B.exe --RegSetValue -- HKCU\\Software\\Microsoft\\Windows\\CurrentVersion\\Internet Settings\\ZoneMap\\UNCAsIntranet -- Type: REG_DWORD, Length: 4, Data: 1\n",
      "Sample_B.exe --RegSetValue -- HKCU\\Software\\Microsoft\\Windows\\CurrentVersion\\Internet Settings\\ZoneMap\\AutoDetect -- Type: REG_DWORD, Length: 4, Data: 0\n",
      "Sample_B.exe --RegSetValue -- HKCU\\Software\\Microsoft\\Windows\\CurrentVersion\\Internet Settings\\ZoneMap\\ProxyBypass -- Type: REG_DWORD, Length: 4, Data: 1\n",
      "Sample_B.exe --RegSetValue -- HKCU\\Software\\Microsoft\\Windows\\CurrentVersion\\Internet Settings\\ZoneMap\\IntranetName -- Type: REG_DWORD, Length: 4, Data: 1\n",
      "Sample_B.exe --RegSetValue -- HKCU\\Software\\Microsoft\\Windows\\CurrentVersion\\Internet Settings\\ZoneMap\\UNCAsIntranet -- Type: REG_DWORD, Length: 4, Data: 1\n",
      "Sample_B.exe --RegSetValue -- HKCU\\Software\\Microsoft\\Windows\\CurrentVersion\\Internet Settings\\ZoneMap\\AutoDetect -- Type: REG_DWORD, Length: 4, Data: 0\n",
      "Windows Update.exe --RegSetValue -- HKLM\\SOFTWARE\\Microsoft\\Tracing\\Windows Update_RASAPI32\\EnableFileTracing -- Type: REG_DWORD, Length: 4, Data: 0\n",
      "Windows Update.exe --RegSetValue -- HKLM\\SOFTWARE\\Microsoft\\Tracing\\Windows Update_RASAPI32\\EnableConsoleTracing -- Type: REG_DWORD, Length: 4, Data: 0\n",
      "Windows Update.exe --RegSetValue -- HKLM\\SOFTWARE\\Microsoft\\Tracing\\Windows Update_RASAPI32\\FileTracingMask -- Type: REG_DWORD, Length: 4, Data: 4294901760\n",
      "Windows Update.exe --RegSetValue -- HKLM\\SOFTWARE\\Microsoft\\Tracing\\Windows Update_RASAPI32\\ConsoleTracingMask -- Type: REG_DWORD, Length: 4, Data: 4294901760\n",
      "Windows Update.exe --RegSetValue -- HKLM\\SOFTWARE\\Microsoft\\Tracing\\Windows Update_RASAPI32\\MaxFileSize -- Type: REG_DWORD, Length: 4, Data: 1048576\n",
      "Windows Update.exe --RegSetValue -- HKLM\\SOFTWARE\\Microsoft\\Tracing\\Windows Update_RASAPI32\\FileDirectory -- Type: REG_EXPAND_SZ, Length: 34, Data: %windir%\\tracing\n",
      "Windows Update.exe --RegSetValue -- HKLM\\SOFTWARE\\Microsoft\\Tracing\\Windows Update_RASMANCS\\EnableFileTracing -- Type: REG_DWORD, Length: 4, Data: 0\n",
      "Windows Update.exe --RegSetValue -- HKLM\\SOFTWARE\\Microsoft\\Tracing\\Windows Update_RASMANCS\\EnableConsoleTracing -- Type: REG_DWORD, Length: 4, Data: 0\n",
      "Windows Update.exe --RegSetValue -- HKLM\\SOFTWARE\\Microsoft\\Tracing\\Windows Update_RASMANCS\\FileTracingMask -- Type: REG_DWORD, Length: 4, Data: 4294901760\n",
      "Windows Update.exe --RegSetValue -- HKLM\\SOFTWARE\\Microsoft\\Tracing\\Windows Update_RASMANCS\\ConsoleTracingMask -- Type: REG_DWORD, Length: 4, Data: 4294901760\n",
      "Windows Update.exe --RegSetValue -- HKLM\\SOFTWARE\\Microsoft\\Tracing\\Windows Update_RASMANCS\\MaxFileSize -- Type: REG_DWORD, Length: 4, Data: 1048576\n",
      "Windows Update.exe --RegSetValue -- HKLM\\SOFTWARE\\Microsoft\\Tracing\\Windows Update_RASMANCS\\FileDirectory -- Type: REG_EXPAND_SZ, Length: 34, Data: %windir%\\tracing\n",
      "Windows Update.exe --RegSetValue -- HKCU\\Software\\Microsoft\\Windows\\CurrentVersion\\Explorer\\Advanced\\Hidden -- Type: REG_DWORD, Length: 4, Data: 1\n",
      "Windows Update.exe --RegSetValue -- HKCU\\Software\\Microsoft\\Windows\\CurrentVersion\\Run\\Windows Update -- Type: REG_SZ, Length: 100, Data: C:\\Users\\IEUser\\AppData\\Roaming\\WindowsUpdate.exe\n"
     ]
    }
   ],
   "source": [
    "def see_events(df,ops_list,pid=None):\n",
    "    for op in ops_list:\n",
    "        print(\"\\x1b[31m==========================\\x1b[0m\",op,\"\\x1b[31m===========================\\x1b[0m\")#\"\\x1b[31m\\\"red\\\"\\x1b[0m\"\n",
    "        Events = df[(df[\"Operation\"] == op)]\n",
    "        if pid == None:\n",
    "            for i in range(len(Events)):\n",
    "                print(f\"{Events.iloc[i,1]} --{Events.iloc[i,3]} -- {Events.iloc[i,4]} -- {Events.iloc[i,6]}\")\n",
    "        else:\n",
    "            for i in range(len(Events)):\n",
    "                if Events.iloc[i,1] == pid:\n",
    "                    print(f\"{Events.iloc[i,1]} --{Events.iloc[i,3]} -- {Events.iloc[i,4]} -- {Events.iloc[i,6]}\")\n",
    "#To see all registry events, uncomment the below\n",
    "#see_events(aDF,[ops for ops in uniq_ops[\"Operation\"] if ops.startswith(\"Reg\")])\n",
    "#The only interesting ones are RegSetValue\n",
    "see_events(bDF,[\"RegSetValue\"])"
   ]
  },
  {
   "cell_type": "code",
   "execution_count": 5,
   "metadata": {},
   "outputs": [
    {
     "name": "stdout",
     "output_type": "stream",
     "text": [
      "\u001b[31m==========================\u001b[0m Process Create \u001b[31m===========================\u001b[0m\n",
      "Sample_B.exe --Process Create -- C:\\Users\\IEUser\\AppData\\Roaming\\Windows Update.exe -- PID: 3988, Command line: \"C:\\Users\\IEUser\\AppData\\Roaming\\Windows Update.exe\" \n",
      "Windows Update.exe --Process Create -- C:\\Windows\\Microsoft.NET\\Framework\\v2.0.50727\\vbc.exe -- PID: 1212, Command line: C:\\Windows\\Microsoft.NET\\Framework\\v2.0.50727\\vbc.exe /stext \"C:\\Users\\IEUser\\AppData\\Local\\Temp\\holdermail.txt\"\n",
      "Windows Update.exe --Process Create -- C:\\Windows\\Microsoft.NET\\Framework\\v2.0.50727\\vbc.exe -- PID: 2336, Command line: C:\\Windows\\Microsoft.NET\\Framework\\v2.0.50727\\vbc.exe /stext \"C:\\Users\\IEUser\\AppData\\Local\\Temp\\holderwb.txt\"\n"
     ]
    }
   ],
   "source": [
    "see_events(bDF,[\"Process Create\"])"
   ]
  },
  {
   "cell_type": "code",
   "execution_count": 5,
   "metadata": {},
   "outputs": [
    {
     "name": "stdout",
     "output_type": "stream",
     "text": [
      "\u001b[31m==========================\u001b[0m CreateFile : exe \u001b[31m===========================\u001b[0m\n",
      "C:\\Users\\IEUser\\Desktop\\Assignment 1(2)\\Assignment 1\\Malware samples\\Sample_B\\Sample_B.exe\n",
      "C:\\Users\\IEUser\\Desktop\\Assignment 1(2)\\Assignment 1\\Malware samples\\Sample_B\\en-US\\Phulli.resources.exe\n",
      "C:\\Users\\IEUser\\Desktop\\Assignment 1(2)\\Assignment 1\\Malware samples\\Sample_B\\en-US\\Phulli.resources\\Phulli.resources.exe\n",
      "C:\\Users\\IEUser\\Desktop\\Assignment 1(2)\\Assignment 1\\Malware samples\\Sample_B\\en\\Phulli.resources.exe\n",
      "C:\\Users\\IEUser\\Desktop\\Assignment 1(2)\\Assignment 1\\Malware samples\\Sample_B\\en\\Phulli.resources\\Phulli.resources.exe\n",
      "C:\\Users\\IEUser\\AppData\\Local\\Temp\\SysInfo.txt\n",
      "C:\\Users\\IEUser\\AppData\\Roaming\\Windows Update.exe\n",
      "C:\\Users\\IEUser\\AppData\\Roaming\\en-US\\Phulli.resources.exe\n",
      "C:\\Users\\IEUser\\AppData\\Roaming\\en-US\\Phulli.resources\\Phulli.resources.exe\n",
      "C:\\Users\\IEUser\\AppData\\Roaming\\en\\Phulli.resources.exe\n",
      "C:\\Users\\IEUser\\AppData\\Roaming\\en\\Phulli.resources\\Phulli.resources.exe\n",
      "C:\\Users\\IEUser\\AppData\\Roaming\\pid.txt\n",
      "C:\\Users\\IEUser\\AppData\\Roaming\\pidloc.txt\n",
      "C:\\Users\\IEUser\\AppData\\Roaming\\WindowsUpdate.exe\n",
      "C:\\Windows\\Microsoft.NET\\Framework\\v2.0.50727\\vbc.exe\n",
      "C:\\Users\\IEUser\\AppData\\Local\\Temp\\holdermail.txt\n",
      "C:\\Users\\IEUser\\AppData\\Local\\Temp\\holderwb.txt\n"
     ]
    }
   ],
   "source": [
    "def see_events_two(df,ops_list,pid=None):\n",
    "    for op in ops_list:\n",
    "        print(\"\\x1b[31m==========================\\x1b[0m\",op,\": exe\",\"\\x1b[31m===========================\\x1b[0m\")#\"\\x1b[31m\\\"red\\\"\\x1b[0m\"\n",
    "        Events = df[(df[\"Operation\"] == op)]\n",
    "        \n",
    "        if pid == None:\n",
    "            #for i in range(len(Events)):\n",
    "                #print(f\"{Events.iloc[i,1]} --{Events.iloc[i,3]} -- {Events.iloc[i,4]}\")\n",
    "            _tmp = list(Events.iloc[:,4].unique())\n",
    "            for what in _tmp:\n",
    "                \n",
    "                if type(what)== str and ( what.endswith(\"exe\") or what.endswith(\"txt\")):\n",
    "                    print(what)\n",
    "see_events_two(bDF,[\"CreateFile\"])"
   ]
  },
  {
   "cell_type": "code",
   "execution_count": 25,
   "metadata": {},
   "outputs": [],
   "source": [
    "uwuDF = pd.read_csv(\"b_procmon_uwu.csv\")"
   ]
  },
  {
   "cell_type": "code",
   "execution_count": 26,
   "metadata": {},
   "outputs": [
    {
     "name": "stdout",
     "output_type": "stream",
     "text": [
      "\u001b[31m==========================\u001b[0m RegSetValue \u001b[31m===========================\u001b[0m\n",
      "Sample_B.exe --RegSetValue -- HKCU\\Software\\Microsoft\\GDIPlus\\FontCachePath -- Type: REG_SZ, Length: 60, Data: C:\\Users\\IEUser\\AppData\\Local\n",
      "Sample_B.exe --RegSetValue -- HKCU\\Software\\Microsoft\\Windows\\CurrentVersion\\Internet Settings\\ZoneMap\\ProxyBypass -- Type: REG_DWORD, Length: 4, Data: 1\n",
      "Sample_B.exe --RegSetValue -- HKCU\\Software\\Microsoft\\Windows\\CurrentVersion\\Internet Settings\\ZoneMap\\IntranetName -- Type: REG_DWORD, Length: 4, Data: 1\n",
      "Sample_B.exe --RegSetValue -- HKCU\\Software\\Microsoft\\Windows\\CurrentVersion\\Internet Settings\\ZoneMap\\UNCAsIntranet -- Type: REG_DWORD, Length: 4, Data: 1\n",
      "Sample_B.exe --RegSetValue -- HKCU\\Software\\Microsoft\\Windows\\CurrentVersion\\Internet Settings\\ZoneMap\\AutoDetect -- Type: REG_DWORD, Length: 4, Data: 0\n",
      "Sample_B.exe --RegSetValue -- HKCU\\Software\\Microsoft\\Windows\\CurrentVersion\\Internet Settings\\ZoneMap\\ProxyBypass -- Type: REG_DWORD, Length: 4, Data: 1\n",
      "Sample_B.exe --RegSetValue -- HKCU\\Software\\Microsoft\\Windows\\CurrentVersion\\Internet Settings\\ZoneMap\\IntranetName -- Type: REG_DWORD, Length: 4, Data: 1\n",
      "Sample_B.exe --RegSetValue -- HKCU\\Software\\Microsoft\\Windows\\CurrentVersion\\Internet Settings\\ZoneMap\\UNCAsIntranet -- Type: REG_DWORD, Length: 4, Data: 1\n",
      "Sample_B.exe --RegSetValue -- HKCU\\Software\\Microsoft\\Windows\\CurrentVersion\\Internet Settings\\ZoneMap\\AutoDetect -- Type: REG_DWORD, Length: 4, Data: 0\n",
      "Windows Update.exe --RegSetValue -- HKLM\\SOFTWARE\\Microsoft\\Tracing\\Windows Update_RASAPI32\\EnableFileTracing -- Type: REG_DWORD, Length: 4, Data: 0\n",
      "Windows Update.exe --RegSetValue -- HKLM\\SOFTWARE\\Microsoft\\Tracing\\Windows Update_RASAPI32\\EnableConsoleTracing -- Type: REG_DWORD, Length: 4, Data: 0\n",
      "Windows Update.exe --RegSetValue -- HKLM\\SOFTWARE\\Microsoft\\Tracing\\Windows Update_RASAPI32\\FileTracingMask -- Type: REG_DWORD, Length: 4, Data: 4294901760\n",
      "Windows Update.exe --RegSetValue -- HKLM\\SOFTWARE\\Microsoft\\Tracing\\Windows Update_RASAPI32\\ConsoleTracingMask -- Type: REG_DWORD, Length: 4, Data: 4294901760\n",
      "Windows Update.exe --RegSetValue -- HKLM\\SOFTWARE\\Microsoft\\Tracing\\Windows Update_RASAPI32\\MaxFileSize -- Type: REG_DWORD, Length: 4, Data: 1048576\n",
      "Windows Update.exe --RegSetValue -- HKLM\\SOFTWARE\\Microsoft\\Tracing\\Windows Update_RASAPI32\\FileDirectory -- Type: REG_EXPAND_SZ, Length: 34, Data: %windir%\\tracing\n",
      "Windows Update.exe --RegSetValue -- HKLM\\SOFTWARE\\Microsoft\\Tracing\\Windows Update_RASMANCS\\EnableFileTracing -- Type: REG_DWORD, Length: 4, Data: 0\n",
      "Windows Update.exe --RegSetValue -- HKLM\\SOFTWARE\\Microsoft\\Tracing\\Windows Update_RASMANCS\\EnableConsoleTracing -- Type: REG_DWORD, Length: 4, Data: 0\n",
      "Windows Update.exe --RegSetValue -- HKLM\\SOFTWARE\\Microsoft\\Tracing\\Windows Update_RASMANCS\\FileTracingMask -- Type: REG_DWORD, Length: 4, Data: 4294901760\n",
      "Windows Update.exe --RegSetValue -- HKLM\\SOFTWARE\\Microsoft\\Tracing\\Windows Update_RASMANCS\\ConsoleTracingMask -- Type: REG_DWORD, Length: 4, Data: 4294901760\n",
      "Windows Update.exe --RegSetValue -- HKLM\\SOFTWARE\\Microsoft\\Tracing\\Windows Update_RASMANCS\\MaxFileSize -- Type: REG_DWORD, Length: 4, Data: 1048576\n",
      "Windows Update.exe --RegSetValue -- HKLM\\SOFTWARE\\Microsoft\\Tracing\\Windows Update_RASMANCS\\FileDirectory -- Type: REG_EXPAND_SZ, Length: 34, Data: %windir%\\tracing\n",
      "Windows Update.exe --RegSetValue -- HKCU\\Software\\Microsoft\\Windows\\CurrentVersion\\Explorer\\Advanced\\Hidden -- Type: REG_DWORD, Length: 4, Data: 1\n",
      "Windows Update.exe --RegSetValue -- HKCU\\Software\\Microsoft\\Windows\\CurrentVersion\\Run\\Windows Update -- Type: REG_SZ, Length: 100, Data: C:\\Users\\IEUser\\AppData\\Roaming\\WindowsUpdate.exe\n"
     ]
    }
   ],
   "source": [
    "see_events(uwuDF,[\"RegSetValue\"])"
   ]
  },
  {
   "cell_type": "code",
   "execution_count": 17,
   "metadata": {},
   "outputs": [
    {
     "ename": "NameError",
     "evalue": "name 'uwuDF' is not defined",
     "output_type": "error",
     "traceback": [
      "\u001b[1;31m---------------------------------------------------------------------------\u001b[0m",
      "\u001b[1;31mNameError\u001b[0m                                 Traceback (most recent call last)",
      "\u001b[1;32m<ipython-input-17-bbf1c5d4b100>\u001b[0m in \u001b[0;36m<module>\u001b[1;34m\u001b[0m\n\u001b[1;32m----> 1\u001b[1;33m \u001b[0msee_events\u001b[0m\u001b[1;33m(\u001b[0m\u001b[0muwuDF\u001b[0m\u001b[1;33m,\u001b[0m\u001b[1;33m[\u001b[0m\u001b[1;34m\"CreateFile\"\u001b[0m\u001b[1;33m]\u001b[0m\u001b[1;33m)\u001b[0m\u001b[1;33m\u001b[0m\u001b[1;33m\u001b[0m\u001b[0m\n\u001b[0m",
      "\u001b[1;31mNameError\u001b[0m: name 'uwuDF' is not defined"
     ]
    }
   ],
   "source": [
    "see_events(uwuDF,[\"CreateFile\"])"
   ]
  }
 ],
 "metadata": {
  "kernelspec": {
   "display_name": "base",
   "language": "python",
   "name": "base"
  },
  "language_info": {
   "codemirror_mode": {
    "name": "ipython",
    "version": 3
   },
   "file_extension": ".py",
   "mimetype": "text/x-python",
   "name": "python",
   "nbconvert_exporter": "python",
   "pygments_lexer": "ipython3",
   "version": "3.7.6"
  }
 },
 "nbformat": 4,
 "nbformat_minor": 4
}
